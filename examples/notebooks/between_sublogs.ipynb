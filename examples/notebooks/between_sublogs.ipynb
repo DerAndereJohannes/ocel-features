{
 "cells": [
  {
   "cell_type": "code",
   "execution_count": 1,
   "id": "d215e029",
   "metadata": {},
   "outputs": [],
   "source": [
    "import ocel\n",
    "import networkx as nx\n",
    "import matplotlib.pyplot as plt\n",
    "import ocel_features.util.experimental.convert_neo4j as n4j\n",
    "import ocel_features.analysis.plot_graphs as pg\n",
    "import ocel_features.util.multigraph as mg\n",
    "from datetime import timedelta\n",
    "from pprint import pprint\n",
    "from copy import copy\n",
    "from collections import Counter"
   ]
  },
  {
   "cell_type": "code",
   "execution_count": 2,
   "id": "4e162fa0",
   "metadata": {},
   "outputs": [],
   "source": [
    "log = ocel.import_log('../logs/running-example.jsonocel')\n",
    "days = set(range(5))\n",
    "graphs = n4j.get_weekly_graphs(log, days)"
   ]
  },
  {
   "cell_type": "code",
   "execution_count": null,
   "id": "3c66f8b1",
   "metadata": {},
   "outputs": [],
   "source": [
    "# count number of times each "
   ]
  }
 ],
 "metadata": {
  "kernelspec": {
   "display_name": "Python 3 (ipykernel)",
   "language": "python",
   "name": "python3"
  },
  "language_info": {
   "codemirror_mode": {
    "name": "ipython",
    "version": 3
   },
   "file_extension": ".py",
   "mimetype": "text/x-python",
   "name": "python",
   "nbconvert_exporter": "python",
   "pygments_lexer": "ipython3",
   "version": "3.9.2"
  }
 },
 "nbformat": 4,
 "nbformat_minor": 5
}
