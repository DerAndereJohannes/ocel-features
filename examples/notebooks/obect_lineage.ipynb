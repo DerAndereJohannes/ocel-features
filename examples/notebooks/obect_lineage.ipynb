{
 "cells": [
  {
   "cell_type": "code",
   "execution_count": 4,
   "id": "94ada7c8",
   "metadata": {},
   "outputs": [],
   "source": [
    "import ocel\n",
    "from pprint import pprint\n",
    "from ocel_features.util import object_descendants as od"
   ]
  },
  {
   "cell_type": "code",
   "execution_count": 5,
   "id": "a23face5",
   "metadata": {},
   "outputs": [],
   "source": [
    "log = ocel.import_log('../logs/actual-min.jsonocel')\n",
    "graph = od.create_obj_descendant_graph(log)\n",
    "localities = od.get_localities(graph)\n",
    "# print('creating graph...')\n",
    "# print('creating descendants...')\n",
    "# descendants = od.get_obj_descendants(graph)\n",
    "# print('creating localities...')\n",
    "# #localities = od.get_localities(descendants)\n",
    "# ancestors = od.get_obj_ancestors(graph)\n",
    "# pprint(ancestors)"
   ]
  },
  {
   "cell_type": "code",
   "execution_count": 6,
   "id": "3e5ad499",
   "metadata": {},
   "outputs": [
    {
     "name": "stdout",
     "output_type": "stream",
     "text": [
      "{'i1': {'localities': {'i2', 'p1', 'r2', 'o1', 'r1', 'i1'}},\n",
      " 'i2': {'localities': {'p1', 'i2', 'r2', 'o1', 'r1', 'i1'}},\n",
      " 'i3': {'localities': {'p2', 'i5', 'r2', 'i3', 'p1', 'r1', 'i4', 'o2'}},\n",
      " 'i4': {'localities': {'p2', 'i5', 'r2', 'i3', 'p1', 'r1', 'i4', 'o2'}},\n",
      " 'i5': {'localities': {'p2', 'i5', 'r2', 'i3', 'p1', 'r1', 'i4', 'o2'}},\n",
      " 'i6': {'localities': {'p2', 'o3', 'r2', 'i6'}},\n",
      " 'o1': {'localities': {'p1', 'i2', 'r2', 'o1', 'r1', 'i1'}},\n",
      " 'o2': {'localities': {'p2', 'i5', 'r2', 'i3', 'p1', 'r1', 'i4', 'o2'}},\n",
      " 'o3': {'localities': {'p2', 'i6', 'r2', 'o3'}},\n",
      " 'p1': {'localities': {'i3', 'r1', 'p1', 'r2', 'i2', 'i1'}},\n",
      " 'p2': {'localities': {'p2', 'i6', 'i5', 'r2', 'i4'}},\n",
      " 'r1': {'localities': {'i3', 'r1', 'i2', 'p1', 'i1'}},\n",
      " 'r2': {'localities': {'p2', 'i5', 'i2', 'r2', 'i6', 'i1', 'i3', 'p1', 'i4'}}}\n",
      "[{'i2', 'p1', 'r2', 'o1', 'r1', 'i1'},\n",
      " {'p2', 'i5', 'r2', 'i3', 'p1', 'r1', 'i4', 'o2'},\n",
      " {'i3', 'r1', 'p1', 'r2', 'i2', 'i1'},\n",
      " {'i3', 'r1', 'i2', 'p1', 'i1'},\n",
      " {'p2', 'i6', 'r2', 'o3'},\n",
      " {'p2', 'i6', 'i5', 'r2', 'i4'},\n",
      " {'p2', 'i5', 'i2', 'r2', 'i6', 'i1', 'i3', 'p1', 'i4'}]\n"
     ]
    }
   ],
   "source": [
    "# pprint(descendants)\n",
    "# unique = od.get_unique_localities(localities)\n",
    "# print(len(unique))\n",
    "# print(len(descendants))\n",
    "# pprint(ancestors)\n",
    "# print('-----------------')\n",
    "# pprint(descendants)\n",
    "# localities = {oid: set() for oid in descendants}\n",
    "\n",
    "# for oid in descendants:\n",
    "#         localities[oid] = {}\n",
    "#         localities[oid]['localities'] = descendants[oid]['descendants'] | ancestors[oid]['ancestors']\n",
    "\n",
    "pprint(localities)\n",
    "a = od.get_unique_localities(localities)\n",
    "\n",
    "pprint(a)\n",
    "# print('-------------------------')\n",
    "# pprint(descendants)"
   ]
  },
  {
   "cell_type": "code",
   "execution_count": null,
   "id": "58b82a79",
   "metadata": {},
   "outputs": [],
   "source": []
  },
  {
   "cell_type": "code",
   "execution_count": null,
   "id": "6b91ba6c",
   "metadata": {},
   "outputs": [],
   "source": []
  }
 ],
 "metadata": {
  "kernelspec": {
   "display_name": "thesis",
   "language": "python",
   "name": "thesis"
  },
  "language_info": {
   "codemirror_mode": {
    "name": "ipython",
    "version": 3
   },
   "file_extension": ".py",
   "mimetype": "text/x-python",
   "name": "python",
   "nbconvert_exporter": "python",
   "pygments_lexer": "ipython3",
   "version": "3.9.6"
  }
 },
 "nbformat": 4,
 "nbformat_minor": 5
}
