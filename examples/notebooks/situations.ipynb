{
 "cells": [
  {
   "cell_type": "code",
   "execution_count": 1,
   "id": "6c47aaac",
   "metadata": {},
   "outputs": [],
   "source": [
    "import ocel\n",
    "from IPython.display import display\n",
    "from pprint import pprint\n",
    "from ocel_features.util.multigraph import Relations, create_object_centric_graph, all_relations\n",
    "from ocel_features.obj.object_situation import Targets, create_situations\n",
    "from ocel_features.util.data_organization import Operators\n",
    "from ocel_features.analysis.plot_graphs import show_graph_plt"
   ]
  },
  {
   "cell_type": "code",
   "execution_count": 2,
   "id": "744641de",
   "metadata": {},
   "outputs": [
    {
     "name": "stdout",
     "output_type": "stream",
     "text": [
      "0/39 events processed.\n",
      "Graph done!\n"
     ]
    },
    {
     "data": {
      "image/png": "[encoded data removed]",
      "text/plain": [
       "<Figure size 432x288 with 1 Axes>"
      ]
     },
     "metadata": {},
     "output_type": "display_data"
    }
   ],
   "source": [
    "log = ocel.import_log('../logs/actual-min.jsonocel')\n",
    "graph = create_object_centric_graph(log, {Relations.DESCENDANTS})\n",
    "show_graph_plt(graph)"
   ]
  },
  {
   "cell_type": "code",
   "execution_count": 3,
   "id": "422b5c73",
   "metadata": {},
   "outputs": [
    {
     "name": "stdout",
     "output_type": "stream",
     "text": [
      "['EVENTCHOICE', 'EVENTPROPERTY', 'EVENTPROPERTYUNKNOWN', 'EVENTWAIT', 'EVENTOBJECTCHOICE', 'OBJECTPROPERTY', 'OBJECTLIFETIME', 'TIMEWORKLOAD']\n"
     ]
    }
   ],
   "source": [
    "### All situation targets available\n",
    "print([sit.name for sit in Targets])\n",
    "### those with 'EVENT' at the start require event ids as the target input\n",
    "### those with 'OBJECT' require object ids"
   ]
  },
  {
   "cell_type": "code",
   "execution_count": 4,
   "id": "45d80565",
   "metadata": {},
   "outputs": [
    {
     "name": "stdout",
     "output_type": "stream",
     "text": [
      "Please provide parameters ['activities'] to use EVENTCHOICE.\n"
     ]
    }
   ],
   "source": [
    "### giving nothing as the params gives us all the required params\n",
    "### for the situation to be created\n",
    "situations = create_situations(log, graph, \n",
    "                               log['ocel:events'], \n",
    "                               Targets.EVENTCHOICE, \n",
    "                               params=None)"
   ]
  },
  {
   "cell_type": "code",
   "execution_count": 5,
   "id": "2109c990",
   "metadata": {},
   "outputs": [
    {
     "name": "stdout",
     "output_type": "stream",
     "text": [
      "[Situation({'event choice': {0: 'failed delivery'}}),\n",
      " Situation({'event choice': {0: 'deliver package'}}),\n",
      " Situation({'event choice': {0: 'deliver package'}})]\n"
     ]
    }
   ],
   "source": [
    "### we require activity names that we want to analyse for the situation!\n",
    "### let's compare what happens when a delivery is successful vs. not\n",
    "params={'activities': {'failed delivery', 'deliver package'}}\n",
    "\n",
    "situations = create_situations(log, graph, \n",
    "                               log['ocel:events'], \n",
    "                               Targets.EVENTCHOICE, \n",
    "                               params)\n",
    "pprint(situations)"
   ]
  },
  {
   "cell_type": "code",
   "execution_count": 10,
   "id": "86eee1c0",
   "metadata": {},
   "outputs": [
    {
     "data": {
      "text/html": [
       "<div>\n",
       "<style scoped>\n",
       "    .dataframe tbody tr th:only-of-type {\n",
       "        vertical-align: middle;\n",
       "    }\n",
       "\n",
       "    .dataframe tbody tr th {\n",
       "        vertical-align: top;\n",
       "    }\n",
       "\n",
       "    .dataframe thead th {\n",
       "        text-align: right;\n",
       "    }\n",
       "</style>\n",
       "<table border=\"1\" class=\"dataframe\">\n",
       "  <thead>\n",
       "    <tr style=\"text-align: right;\">\n",
       "      <th></th>\n",
       "      <th>att:route:latest:distance</th>\n",
       "      <th>att:route:latest:driver</th>\n",
       "      <th>att:route:latest:Destination</th>\n",
       "      <th>att:package:weight:SUM:</th>\n",
       "      <th>att:package:height:SUM:</th>\n",
       "      <th>att:package:width:SUM:</th>\n",
       "    </tr>\n",
       "  </thead>\n",
       "  <tbody>\n",
       "    <tr>\n",
       "      <th>0</th>\n",
       "      <td>5000</td>\n",
       "      <td>Mike</td>\n",
       "      <td>123 Rue de Road</td>\n",
       "      <td>15</td>\n",
       "      <td>50</td>\n",
       "      <td>50</td>\n",
       "    </tr>\n",
       "  </tbody>\n",
       "</table>\n",
       "</div>"
      ],
      "text/plain": [
       "   att:route:latest:distance att:route:latest:driver  \\\n",
       "0                       5000                    Mike   \n",
       "\n",
       "  att:route:latest:Destination  att:package:weight:SUM:  \\\n",
       "0              123 Rue de Road                       15   \n",
       "\n",
       "   att:package:height:SUM:  att:package:width:SUM:  \n",
       "0                       50                      50  "
      ]
     },
     "metadata": {},
     "output_type": "display_data"
    },
    {
     "data": {
      "text/html": [
       "<div>\n",
       "<style scoped>\n",
       "    .dataframe tbody tr th:only-of-type {\n",
       "        vertical-align: middle;\n",
       "    }\n",
       "\n",
       "    .dataframe tbody tr th {\n",
       "        vertical-align: top;\n",
       "    }\n",
       "\n",
       "    .dataframe thead th {\n",
       "        text-align: right;\n",
       "    }\n",
       "</style>\n",
       "<table border=\"1\" class=\"dataframe\">\n",
       "  <thead>\n",
       "    <tr style=\"text-align: right;\">\n",
       "      <th></th>\n",
       "      <th>event choice</th>\n",
       "    </tr>\n",
       "  </thead>\n",
       "  <tbody>\n",
       "    <tr>\n",
       "      <th>0</th>\n",
       "      <td>failed delivery</td>\n",
       "    </tr>\n",
       "  </tbody>\n",
       "</table>\n",
       "</div>"
      ],
      "text/plain": [
       "      event choice\n",
       "0  failed delivery"
      ]
     },
     "metadata": {},
     "output_type": "display_data"
    },
    {
     "data": {
      "text/html": [
       "<div>\n",
       "<style scoped>\n",
       "    .dataframe tbody tr th:only-of-type {\n",
       "        vertical-align: middle;\n",
       "    }\n",
       "\n",
       "    .dataframe tbody tr th {\n",
       "        vertical-align: top;\n",
       "    }\n",
       "\n",
       "    .dataframe thead th {\n",
       "        text-align: right;\n",
       "    }\n",
       "</style>\n",
       "<table border=\"1\" class=\"dataframe\">\n",
       "  <thead>\n",
       "    <tr style=\"text-align: right;\">\n",
       "      <th></th>\n",
       "      <th>att:route:latest:distance</th>\n",
       "      <th>att:route:latest:driver</th>\n",
       "      <th>att:route:latest:Destination</th>\n",
       "      <th>att:package:weight:SUM:</th>\n",
       "      <th>att:package:height:SUM:</th>\n",
       "      <th>att:package:width:SUM:</th>\n",
       "    </tr>\n",
       "  </thead>\n",
       "  <tbody>\n",
       "    <tr>\n",
       "      <th>0</th>\n",
       "      <td>2000</td>\n",
       "      <td>Jason</td>\n",
       "      <td>123 Rue de Road</td>\n",
       "      <td>5</td>\n",
       "      <td>20</td>\n",
       "      <td>10</td>\n",
       "    </tr>\n",
       "  </tbody>\n",
       "</table>\n",
       "</div>"
      ],
      "text/plain": [
       "   att:route:latest:distance att:route:latest:driver  \\\n",
       "0                       2000                   Jason   \n",
       "\n",
       "  att:route:latest:Destination  att:package:weight:SUM:  \\\n",
       "0              123 Rue de Road                        5   \n",
       "\n",
       "   att:package:height:SUM:  att:package:width:SUM:  \n",
       "0                       20                      10  "
      ]
     },
     "metadata": {},
     "output_type": "display_data"
    },
    {
     "data": {
      "text/html": [
       "<div>\n",
       "<style scoped>\n",
       "    .dataframe tbody tr th:only-of-type {\n",
       "        vertical-align: middle;\n",
       "    }\n",
       "\n",
       "    .dataframe tbody tr th {\n",
       "        vertical-align: top;\n",
       "    }\n",
       "\n",
       "    .dataframe thead th {\n",
       "        text-align: right;\n",
       "    }\n",
       "</style>\n",
       "<table border=\"1\" class=\"dataframe\">\n",
       "  <thead>\n",
       "    <tr style=\"text-align: right;\">\n",
       "      <th></th>\n",
       "      <th>event choice</th>\n",
       "    </tr>\n",
       "  </thead>\n",
       "  <tbody>\n",
       "    <tr>\n",
       "      <th>0</th>\n",
       "      <td>deliver package</td>\n",
       "    </tr>\n",
       "  </tbody>\n",
       "</table>\n",
       "</div>"
      ],
      "text/plain": [
       "      event choice\n",
       "0  deliver package"
      ]
     },
     "metadata": {},
     "output_type": "display_data"
    },
    {
     "data": {
      "text/html": [
       "<div>\n",
       "<style scoped>\n",
       "    .dataframe tbody tr th:only-of-type {\n",
       "        vertical-align: middle;\n",
       "    }\n",
       "\n",
       "    .dataframe tbody tr th {\n",
       "        vertical-align: top;\n",
       "    }\n",
       "\n",
       "    .dataframe thead th {\n",
       "        text-align: right;\n",
       "    }\n",
       "</style>\n",
       "<table border=\"1\" class=\"dataframe\">\n",
       "  <thead>\n",
       "    <tr style=\"text-align: right;\">\n",
       "      <th></th>\n",
       "      <th>att:route:latest:distance</th>\n",
       "      <th>att:route:latest:driver</th>\n",
       "      <th>att:route:latest:Destination</th>\n",
       "      <th>att:package:weight:SUM:</th>\n",
       "      <th>att:package:height:SUM:</th>\n",
       "      <th>att:package:width:SUM:</th>\n",
       "    </tr>\n",
       "  </thead>\n",
       "  <tbody>\n",
       "    <tr>\n",
       "      <th>0</th>\n",
       "      <td>2000</td>\n",
       "      <td>Jason</td>\n",
       "      <td>123 Rue de Road</td>\n",
       "      <td>15</td>\n",
       "      <td>50</td>\n",
       "      <td>50</td>\n",
       "    </tr>\n",
       "  </tbody>\n",
       "</table>\n",
       "</div>"
      ],
      "text/plain": [
       "   att:route:latest:distance att:route:latest:driver  \\\n",
       "0                       2000                   Jason   \n",
       "\n",
       "  att:route:latest:Destination  att:package:weight:SUM:  \\\n",
       "0              123 Rue de Road                       15   \n",
       "\n",
       "   att:package:height:SUM:  att:package:width:SUM:  \n",
       "0                       50                      50  "
      ]
     },
     "metadata": {},
     "output_type": "display_data"
    },
    {
     "data": {
      "text/html": [
       "<div>\n",
       "<style scoped>\n",
       "    .dataframe tbody tr th:only-of-type {\n",
       "        vertical-align: middle;\n",
       "    }\n",
       "\n",
       "    .dataframe tbody tr th {\n",
       "        vertical-align: top;\n",
       "    }\n",
       "\n",
       "    .dataframe thead th {\n",
       "        text-align: right;\n",
       "    }\n",
       "</style>\n",
       "<table border=\"1\" class=\"dataframe\">\n",
       "  <thead>\n",
       "    <tr style=\"text-align: right;\">\n",
       "      <th></th>\n",
       "      <th>event choice</th>\n",
       "    </tr>\n",
       "  </thead>\n",
       "  <tbody>\n",
       "    <tr>\n",
       "      <th>0</th>\n",
       "      <td>deliver package</td>\n",
       "    </tr>\n",
       "  </tbody>\n",
       "</table>\n",
       "</div>"
      ],
      "text/plain": [
       "      event choice\n",
       "0  deliver package"
      ]
     },
     "metadata": {},
     "output_type": "display_data"
    }
   ],
   "source": [
    "### now with the target features and the behind the scenes\n",
    "### to create situation features setup, we can create some to explore!\n",
    "for s in situations:\n",
    "    s.get_latest_ot_properties(ot = {'route'})\n",
    "    s.get_op_ot_properties(ot = {'package'}, op = Operators.SUM)\n",
    "    \n",
    "    display(s._df)\n",
    "    display(s._targetdf)\n",
    "    "
   ]
  },
  {
   "cell_type": "code",
   "execution_count": null,
   "id": "860894ef",
   "metadata": {},
   "outputs": [],
   "source": []
  },
  {
   "cell_type": "code",
   "execution_count": null,
   "id": "b29f9907",
   "metadata": {},
   "outputs": [],
   "source": []
  },
  {
   "cell_type": "code",
   "execution_count": null,
   "id": "c782fe36",
   "metadata": {},
   "outputs": [],
   "source": []
  },
  {
   "cell_type": "code",
   "execution_count": null,
   "id": "930f11ca",
   "metadata": {},
   "outputs": [],
   "source": []
  },
  {
   "cell_type": "code",
   "execution_count": null,
   "id": "58e9103c",
   "metadata": {},
   "outputs": [],
   "source": []
  },
  {
   "cell_type": "code",
   "execution_count": null,
   "id": "fdf0be08",
   "metadata": {},
   "outputs": [],
   "source": []
  }
 ],
 "metadata": {
  "kernelspec": {
   "display_name": "Python 3 (ipykernel)",
   "language": "python",
   "name": "python3"
  },
  "language_info": {
   "codemirror_mode": {
    "name": "ipython",
    "version": 3
   },
   "file_extension": ".py",
   "mimetype": "text/x-python",
   "name": "python",
   "nbconvert_exporter": "python",
   "pygments_lexer": "ipython3",
   "version": "3.9.2"
  }
 },
 "nbformat": 4,
 "nbformat_minor": 5
}
