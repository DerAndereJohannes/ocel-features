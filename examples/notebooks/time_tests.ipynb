{
 "cells": [
  {
   "cell_type": "markdown",
   "id": "bf95f711",
   "metadata": {},
   "source": [
    "This notebook is to have timing tests for different functions of the package based on the timeit magic in notebooks."
   ]
  },
  {
   "cell_type": "code",
   "execution_count": 1,
   "id": "c6a9ab49",
   "metadata": {},
   "outputs": [],
   "source": [
    "# Import packages\n",
    "import ocel\n",
    "import ocel_features.algorithm as algo\n",
    "import ocel_features.util.object_descendants as od\n",
    "import ocel_features.util.object_graph as og\n",
    "import ocel_features.variants.object_based as ob\n",
    "\n",
    "# Constants\n",
    "LOG_FOLDER='../logs/'\n",
    "# Import logs\n",
    "minimal = ocel.import_log(f'{LOG_FOLDER}actual-min.jsonocel')\n",
    "\n",
    "# please download these logs from http://ocel-standard.org/ ie. from your log folder:\n",
    "# small: wget http://ocel-standard.org/1.0/running-example.jsonocel.zip && unzip running-example.jsonocel.zip && rm running-example.jsonocel.zip\n",
    "# medium: wget http://ocel-standard.org/1.0/p2p.jsonocel.zip && unzip p2p.jsonocel.zip && rm p2p.jsonocel.zip\n",
    "# large: wget http://ocel-standard.org/1.0/o2c.jsonocel.zip && unzip o2c.jsonocel.zip && rm o2c.jsonocel.zip\n",
    "\n",
    "small = ocel.import_log(f'{LOG_FOLDER}running-example.jsonocel')  # 22367 events, 11522 objects\n",
    "medium = ocel.import_log(f'{LOG_FOLDER}p2p.jsonocel')  # 24854 events, 74489 objects -> includes multiple representations of same object\n",
    "large = ocel.import_log(f'{LOG_FOLDER}o2c.jsonocel')  # 98350 events, 107767 objects\n",
    "\n",
    "logs = [minimal, small, medium, large]"
   ]
  },
  {
   "cell_type": "markdown",
   "id": "1f79d17c",
   "metadata": {},
   "source": [
    "**Object Graph Timings**"
   ]
  },
  {
   "cell_type": "code",
   "execution_count": 2,
   "id": "782370f0",
   "metadata": {},
   "outputs": [
    {
     "name": "stdout",
     "output_type": "stream",
     "text": [
      "==========================================================\n",
      "(1 / 4) timing the creation of object graph log 0: 39 events, 13 objects\n",
      "245 µs ± 3.6 µs per loop (mean ± std. dev. of 7 runs, 1000 loops each)\n",
      "==========================================================\n",
      "(2 / 4) timing the creation of object graph log 1: 22367 events, 11522 objects\n",
      "957 ms ± 3.42 ms per loop (mean ± std. dev. of 7 runs, 1 loop each)\n",
      "==========================================================\n",
      "(3 / 4) timing the creation of object graph log 2: 24854 events, 219675 objects\n",
      "1.85 s ± 12.9 ms per loop (mean ± std. dev. of 7 runs, 1 loop each)\n",
      "==========================================================\n",
      "(4 / 4) timing the creation of object graph log 3: 98350 events, 107767 objects\n",
      "1.44 s ± 4.17 ms per loop (mean ± std. dev. of 7 runs, 1 loop each)\n",
      "==========================================================DONE\n"
     ]
    }
   ],
   "source": [
    "# Prepare the object graphs\n",
    "object_graphs = [None] * len(logs)\n",
    "\n",
    "for i, log in enumerate(logs):\n",
    "    print('==========================================================')\n",
    "    print(f'({i + 1} / {len(logs)}) timing the creation of object graph log {i}: {len(log[\"ocel:events\"])} events, {len(log[\"ocel:objects\"])} objects')\n",
    "    %timeit object_graphs[i] = og.create_object_graph(log)\n",
    "\n",
    "print('==========================================================DONE')\n"
   ]
  },
  {
   "cell_type": "markdown",
   "id": "a9501604",
   "metadata": {},
   "source": [
    "**Descendant Graph Timings**"
   ]
  },
  {
   "cell_type": "code",
   "execution_count": 3,
   "id": "49508573",
   "metadata": {},
   "outputs": [
    {
     "name": "stdout",
     "output_type": "stream",
     "text": [
      "==========================================================\n",
      "(1 / 4) timing the creation of object graph log 0: 39 events, 13 objects.\n",
      "443 µs ± 3.93 µs per loop (mean ± std. dev. of 7 runs, 1000 loops each)\n",
      "==========================================================\n",
      "(2 / 4) timing the creation of object graph log 1: 22367 events, 11522 objects.\n",
      "2.93 s ± 14.9 ms per loop (mean ± std. dev. of 7 runs, 1 loop each)\n",
      "==========================================================\n",
      "(3 / 4) timing the creation of object graph log 2: 24854 events, 219675 objects.\n",
      "3.52 s ± 36.7 ms per loop (mean ± std. dev. of 7 runs, 1 loop each)\n",
      "==========================================================\n",
      "(4 / 4) timing the creation of object graph log 3: 98350 events, 107767 objects.\n",
      "3.06 s ± 15.4 ms per loop (mean ± std. dev. of 7 runs, 1 loop each)\n",
      "==========================================================DONE\n"
     ]
    }
   ],
   "source": [
    "# Prepare the descendant graphs\n",
    "object_descendants = [None] * len(logs)\n",
    "\n",
    "for i, log in enumerate(logs):\n",
    "    print('==========================================================')\n",
    "    print(f'({i + 1} / {len(logs)}) timing the creation of object graph log {i}: {len(log[\"ocel:events\"])} events, {len(log[\"ocel:objects\"])} objects.')\n",
    "    %timeit object_descendants[i] = od.create_obj_descendant_graph(log)\n",
    "\n",
    "print('==========================================================DONE')"
   ]
  },
  {
   "cell_type": "markdown",
   "id": "bbcc100a",
   "metadata": {},
   "source": [
    "**Object Based Feature Extraction Timings**"
   ]
  },
  {
   "cell_type": "code",
   "execution_count": 5,
   "id": "6cd7a990",
   "metadata": {},
   "outputs": [
    {
     "name": "stdout",
     "output_type": "stream",
     "text": [
      "Object-Based Features Timings\n",
      "==========================================================\n",
      "(1 / 5) timing the extraction of feature \"NEIGHBOUR_COUNT\"\n",
      "\n",
      "[1 / 4] extracting NEIGHBOUR_COUNT from log 0: 39 events, 13 objects\n",
      "7.21 µs ± 42.7 ns per loop (mean ± std. dev. of 7 runs, 100000 loops each)\n",
      "---------------------------------------------------------- \n",
      "\n",
      "[2 / 4] extracting NEIGHBOUR_COUNT from log 1: 22367 events, 11522 objects\n",
      "21.2 ms ± 235 µs per loop (mean ± std. dev. of 7 runs, 10 loops each)\n",
      "---------------------------------------------------------- \n",
      "\n",
      "[3 / 4] extracting NEIGHBOUR_COUNT from log 2: 24854 events, 219675 objects\n",
      "183 ms ± 2.37 ms per loop (mean ± std. dev. of 7 runs, 10 loops each)\n",
      "---------------------------------------------------------- \n",
      "\n",
      "[4 / 4] extracting NEIGHBOUR_COUNT from log 3: 98350 events, 107767 objects\n",
      "101 ms ± 826 µs per loop (mean ± std. dev. of 7 runs, 10 loops each)\n",
      "---------------------------------------------------------- \n",
      "\n",
      "==========================================================\n",
      "(2 / 5) timing the extraction of feature \"ACTIVITY_EXISTENCE\"\n",
      "\n",
      "[1 / 4] extracting ACTIVITY_EXISTENCE from log 0: 39 events, 13 objects\n",
      "45.1 µs ± 1.07 µs per loop (mean ± std. dev. of 7 runs, 10000 loops each)\n",
      "---------------------------------------------------------- \n",
      "\n",
      "[2 / 4] extracting ACTIVITY_EXISTENCE from log 1: 22367 events, 11522 objects\n",
      "69.2 ms ± 1.08 ms per loop (mean ± std. dev. of 7 runs, 10 loops each)\n",
      "---------------------------------------------------------- \n",
      "\n",
      "[3 / 4] extracting ACTIVITY_EXISTENCE from log 2: 24854 events, 219675 objects\n",
      "890 ms ± 63 ms per loop (mean ± std. dev. of 7 runs, 1 loop each)\n",
      "---------------------------------------------------------- \n",
      "\n",
      "[4 / 4] extracting ACTIVITY_EXISTENCE from log 3: 98350 events, 107767 objects\n",
      "448 ms ± 37 ms per loop (mean ± std. dev. of 7 runs, 1 loop each)\n",
      "---------------------------------------------------------- \n",
      "\n",
      "==========================================================\n",
      "(3 / 5) timing the extraction of feature \"OBJECT_LIFETIME\"\n",
      "\n",
      "[1 / 4] extracting OBJECT_LIFETIME from log 0: 39 events, 13 objects\n",
      "113 µs ± 2.52 µs per loop (mean ± std. dev. of 7 runs, 10000 loops each)\n",
      "---------------------------------------------------------- \n",
      "\n",
      "[2 / 4] extracting OBJECT_LIFETIME from log 1: 22367 events, 11522 objects\n",
      "74.1 ms ± 211 µs per loop (mean ± std. dev. of 7 runs, 10 loops each)\n",
      "---------------------------------------------------------- \n",
      "\n",
      "[3 / 4] extracting OBJECT_LIFETIME from log 2: 24854 events, 219675 objects\n",
      "425 ms ± 55 ms per loop (mean ± std. dev. of 7 runs, 1 loop each)\n",
      "---------------------------------------------------------- \n",
      "\n",
      "[4 / 4] extracting OBJECT_LIFETIME from log 3: 98350 events, 107767 objects\n",
      "357 ms ± 37.4 ms per loop (mean ± std. dev. of 7 runs, 1 loop each)\n",
      "---------------------------------------------------------- \n",
      "\n",
      "==========================================================\n",
      "(4 / 5) timing the extraction of feature \"UNIT_SET_RATIO\"\n",
      "\n",
      "[1 / 4] extracting UNIT_SET_RATIO from log 0: 39 events, 13 objects\n",
      "63.8 µs ± 133 ns per loop (mean ± std. dev. of 7 runs, 10000 loops each)\n",
      "---------------------------------------------------------- \n",
      "\n",
      "[2 / 4] extracting UNIT_SET_RATIO from log 1: 22367 events, 11522 objects\n",
      "229 ms ± 4.62 ms per loop (mean ± std. dev. of 7 runs, 1 loop each)\n",
      "---------------------------------------------------------- \n",
      "\n",
      "[3 / 4] extracting UNIT_SET_RATIO from log 2: 24854 events, 219675 objects\n",
      "437 ms ± 52.4 ms per loop (mean ± std. dev. of 7 runs, 1 loop each)\n",
      "---------------------------------------------------------- \n",
      "\n",
      "[4 / 4] extracting UNIT_SET_RATIO from log 3: 98350 events, 107767 objects\n",
      "346 ms ± 561 µs per loop (mean ± std. dev. of 7 runs, 1 loop each)\n",
      "---------------------------------------------------------- \n",
      "\n",
      "==========================================================\n",
      "(5 / 5) timing the extraction of feature \"AVG_OBJ_INTERACTION\"\n",
      "\n",
      "[1 / 4] extracting AVG_OBJ_INTERACTION from log 0: 39 events, 13 objects\n",
      "25.1 µs ± 254 ns per loop (mean ± std. dev. of 7 runs, 10000 loops each)\n",
      "---------------------------------------------------------- \n",
      "\n",
      "[2 / 4] extracting AVG_OBJ_INTERACTION from log 1: 22367 events, 11522 objects\n",
      "61.5 ms ± 575 µs per loop (mean ± std. dev. of 7 runs, 10 loops each)\n",
      "---------------------------------------------------------- \n",
      "\n",
      "[3 / 4] extracting AVG_OBJ_INTERACTION from log 2: 24854 events, 219675 objects\n",
      "284 ms ± 582 µs per loop (mean ± std. dev. of 7 runs, 1 loop each)\n",
      "---------------------------------------------------------- \n",
      "\n",
      "[4 / 4] extracting AVG_OBJ_INTERACTION from log 3: 98350 events, 107767 objects\n",
      "218 ms ± 1.37 ms per loop (mean ± std. dev. of 7 runs, 1 loop each)\n",
      "---------------------------------------------------------- \n",
      "\n",
      "==========================================================DONE\n"
     ]
    }
   ],
   "source": [
    "feature_names = [f for f in vars(ob.Object_Features) if f[0] != '_']\n",
    "object_dicts = [None] * len(logs)\n",
    "for i, log in enumerate(logs):\n",
    "    object_dicts[i] = {o: [] for o in log['ocel:objects']}\n",
    "print('Object-Based Features Timings')\n",
    "# single feature extraction timings\n",
    "for j, feature in enumerate(feature_names):\n",
    "    print('==========================================================')\n",
    "    print(f'({j + 1} / {len(feature_names)}) timing the extraction of feature \"{feature}\"\\n')\n",
    "    curr_feature = getattr(ob.Object_Features, feature.upper(), None)\n",
    "    for i, log in enumerate(logs):\n",
    "        print(f'[{i + 1} / {len(logs)}] extracting {feature} from log {i}: {len(log[\"ocel:events\"])} events, {len(log[\"ocel:objects\"])} objects')\n",
    "        %timeit curr_feature([], object_dicts[i], object_graphs[i], log)\n",
    "        print('---------------------------------------------------------- \\n')\n",
    "        \n",
    "print('==========================================================DONE')\n",
    "        \n"
   ]
  },
  {
   "cell_type": "code",
   "execution_count": null,
   "id": "62662031",
   "metadata": {},
   "outputs": [],
   "source": []
  },
  {
   "cell_type": "code",
   "execution_count": null,
   "id": "b7e322d5",
   "metadata": {},
   "outputs": [],
   "source": []
  }
 ],
 "metadata": {
  "kernelspec": {
   "display_name": "Python 3 (ipykernel)",
   "language": "python",
   "name": "python3"
  },
  "language_info": {
   "codemirror_mode": {
    "name": "ipython",
    "version": 3
   },
   "file_extension": ".py",
   "mimetype": "text/x-python",
   "name": "python",
   "nbconvert_exporter": "python",
   "pygments_lexer": "ipython3",
   "version": "3.9.7"
  }
 },
 "nbformat": 4,
 "nbformat_minor": 5
}
