{
 "cells": [
  {
   "cell_type": "markdown",
   "id": "bf95f711",
   "metadata": {},
   "source": [
    "This notebook is to have timing tests for different functions of the package based on the timeit magic in notebooks."
   ]
  },
  {
   "cell_type": "code",
   "execution_count": 1,
   "id": "c6a9ab49",
   "metadata": {},
   "outputs": [
    {
     "name": "stdout",
     "output_type": "stream",
     "text": [
      "Scalene extension successfully loaded. Note: Scalene currently only\n",
      "supports CPU+GPU profiling inside Jupyter notebooks. For full Scalene\n",
      "profiling, use the command line version.\n"
     ]
    }
   ],
   "source": [
    "# import extentions\n",
    "%load_ext scalene\n",
    "\n",
    "# Import packages\n",
    "import ocel\n",
    "import ocel_features.algorithm as algo\n",
    "import ocel_features.util.object_descendants as od\n",
    "import ocel_features.util.object_graph as og\n",
    "\n",
    "# Constants\n",
    "LOG_FOLDER='../logs/'\n",
    "# Import logs\n",
    "minimal = ocel.import_log(f'{LOG_FOLDER}actual-min.jsonocel')\n",
    "\n",
    "# please download these logs from http://ocel-standard.org/\n",
    "small = ocel.import_log(f'{LOG_FOLDER}running-example.jsonocel')  # 22367 events, 11522 objects\n",
    "medium = ocel.import_log(f'{LOG_FOLDER}p2p.jsonocel')  # 24854 events, 74489 objects -> includes multiple representations of same object\n",
    "large = ocel.import_log(f'{LOG_FOLDER}o2c.jsonocel')  # 98350 events, 107767 objects"
   ]
  },
  {
   "cell_type": "markdown",
   "id": "1f79d17c",
   "metadata": {},
   "source": [
    "**Descendants**"
   ]
  },
  {
   "cell_type": "code",
   "execution_count": null,
   "id": "782370f0",
   "metadata": {},
   "outputs": [],
   "source": [
    "%%timeit \n",
    "# algo.apply(medium, 'object_based', None, ['neighbour_count', 'avg_obj_interaction', 'object_lifetime', 'unit_set_ratio'])\n",
    "algo.apply(large)"
   ]
  },
  {
   "cell_type": "code",
   "execution_count": null,
   "id": "8b15371b",
   "metadata": {},
   "outputs": [],
   "source": [
    "%%timeit \n",
    "net = od.create_obj_descendant_graph(large)\n",
    "print(net.nodes)\n"
   ]
  },
  {
   "cell_type": "code",
   "execution_count": 2,
   "id": "6cd7a990",
   "metadata": {},
   "outputs": [
    {
     "name": "stdout",
     "output_type": "stream",
     "text": [
      "\u001b[3m                                             [2]: % of time = 100.00% out of   4.32s.                                              \u001b[0m\n",
      "       ╷       ╷       ╷       ╷       ╷                                                                                           \n",
      " \u001b[1m \u001b[0m\u001b[1;2mLine\u001b[0m\u001b[1m \u001b[0m│\u001b[1;34mTime\u001b[0m\u001b[1m  \u001b[0m\u001b[1m \u001b[0m│\u001b[1;34m––––––\u001b[0m\u001b[1m \u001b[0m│\u001b[1;34m––––––\u001b[0m\u001b[1m \u001b[0m│\u001b[1;38;5;106m––––––\u001b[0m\u001b[1m \u001b[0m│\u001b[1m                                                                                         \u001b[0m\u001b[1m \u001b[0m \n",
      "       │\u001b[1;3;34mPython\u001b[0m\u001b[1m \u001b[0m│\u001b[1;3;34mnative\u001b[0m\u001b[1m \u001b[0m│\u001b[1;3;34msystem\u001b[0m\u001b[1m \u001b[0m│\u001b[1;3;38;5;106mGPU\u001b[0m\u001b[1m   \u001b[0m\u001b[1m \u001b[0m│\u001b[1m[2]                                                                                      \u001b[0m\u001b[1m \u001b[0m \n",
      "╺━━━━━━┿━━━━━━━┿━━━━━━━┿━━━━━━━┿━━━━━━━┿━━━━━━━━━━━━━━━━━━━━━━━━━━━━━━━━━━━━━━━━━━━━━━━━━━━━━━━━━━━━━━━━━━━━━━━━━━━━━━━━━━━━━━━━━━╸\n",
      " \u001b[2m \u001b[0m\u001b[2m   1\u001b[0m\u001b[2m \u001b[0m│\u001b[34m      \u001b[0m\u001b[34m \u001b[0m│\u001b[34m      \u001b[0m\u001b[34m \u001b[0m│\u001b[34m      \u001b[0m\u001b[34m \u001b[0m│\u001b[38;5;106m      \u001b[0m\u001b[38;5;106m \u001b[0m│\u001b[38;2;51;153;204;48;2;0;0;0m%\u001b[0m\u001b[38;2;204;204;204;48;2;0;0;0mscrun\u001b[0m\u001b[38;2;204;204;204;48;2;0;0;0m \u001b[0m\u001b[38;2;204;204;204;48;2;0;0;0malgo\u001b[0m\u001b[38;2;51;153;204;48;2;0;0;0m.\u001b[0m\u001b[38;2;204;204;204;48;2;0;0;0mapply\u001b[0m\u001b[38;2;204;204;204;48;2;0;0;0m(\u001b[0m\u001b[38;2;204;204;204;48;2;0;0;0mlarge\u001b[0m\u001b[38;2;204;204;204;48;2;0;0;0m)\u001b[0m\u001b[48;2;0;0;0m                                                                 \u001b[0m  \n",
      "       ╵       ╵       ╵       ╵       ╵                                                                                           \n"
     ]
    }
   ],
   "source": [
    "%scrun algo.apply(large)"
   ]
  },
  {
   "cell_type": "code",
   "execution_count": null,
   "id": "62662031",
   "metadata": {},
   "outputs": [],
   "source": []
  }
 ],
 "metadata": {
  "kernelspec": {
   "display_name": "Python 3 (ipykernel)",
   "language": "python",
   "name": "python3"
  },
  "language_info": {
   "codemirror_mode": {
    "name": "ipython",
    "version": 3
   },
   "file_extension": ".py",
   "mimetype": "text/x-python",
   "name": "python",
   "nbconvert_exporter": "python",
   "pygments_lexer": "ipython3",
   "version": "3.9.7"
  }
 },
 "nbformat": 4,
 "nbformat_minor": 5
}
