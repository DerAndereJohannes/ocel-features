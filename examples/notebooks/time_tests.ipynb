{
 "cells": [
  {
   "cell_type": "markdown",
   "id": "bf95f711",
   "metadata": {},
   "source": [
    "This notebook is to have timing tests for different functions of the package based on the timeit magic in notebooks."
   ]
  },
  {
   "cell_type": "code",
   "execution_count": null,
   "id": "c6a9ab49",
   "metadata": {},
   "outputs": [],
   "source": [
    "# Import packages\n",
    "import ocel\n",
    "import ocel_features.algorithm as algo\n",
    "import ocel_features.util.object_descendants as od\n",
    "import ocel_features.util.object_graph as og\n",
    "\n",
    "# Constants\n",
    "LOG_FOLDER='../logs/'\n",
    "# Import logs\n",
    "minimal = ocel.import_log(f'{LOG_FOLDER}actual-min.jsonocel')\n",
    "\n",
    "# please download these logs from http://ocel-standard.org/\n",
    "small = ocel.import_log(f'{LOG_FOLDER}running-example.jsonocel')  # 22367 events, 11522 objects\n",
    "medium = ocel.import_log(f'{LOG_FOLDER}p2p.jsonocel')  # 24854 events, 74489 objects -> includes multiple representations of same object\n",
    "large = ocel.import_log(f'{LOG_FOLDER}o2c.jsonocel')  # 98350 events, 107767 objects"
   ]
  },
  {
   "cell_type": "markdown",
   "id": "1f79d17c",
   "metadata": {},
   "source": [
    "**Descendants**"
   ]
  },
  {
   "cell_type": "code",
   "execution_count": null,
   "id": "782370f0",
   "metadata": {},
   "outputs": [],
   "source": [
    "%%timeit \n",
    "# algo.apply(medium, 'object_based', None, ['neighbour_count', 'avg_obj_interaction', 'object_lifetime', 'unit_set_ratio'])\n",
    "algo.apply(large)"
   ]
  },
  {
   "cell_type": "code",
   "execution_count": null,
   "id": "8b15371b",
   "metadata": {},
   "outputs": [],
   "source": [
    "%%timeit \n",
    "net = od.create_obj_descendant_graph(large)\n",
    "print(net.nodes)\n"
   ]
  },
  {
   "cell_type": "code",
   "execution_count": null,
   "id": "6cd7a990",
   "metadata": {},
   "outputs": [],
   "source": []
  }
 ],
 "metadata": {
  "kernelspec": {
   "display_name": "Python 3 (ipykernel)",
   "language": "python",
   "name": "python3"
  },
  "language_info": {
   "codemirror_mode": {
    "name": "ipython",
    "version": 3
   },
   "file_extension": ".py",
   "mimetype": "text/x-python",
   "name": "python",
   "nbconvert_exporter": "python",
   "pygments_lexer": "ipython3",
   "version": "3.9.7"
  }
 },
 "nbformat": 4,
 "nbformat_minor": 5
}
